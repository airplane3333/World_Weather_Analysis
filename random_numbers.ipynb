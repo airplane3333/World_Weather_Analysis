{
 "cells": [
  {
   "cell_type": "code",
   "execution_count": 7,
   "id": "d5752bde",
   "metadata": {},
   "outputs": [
    {
     "data": {
      "text/plain": [
       "0.5523749817349053"
      ]
     },
     "execution_count": 7,
     "metadata": {},
     "output_type": "execute_result"
    }
   ],
   "source": [
    "#import the random \n",
    "import random as rd\n",
    "rd.random()\n"
   ]
  },
  {
   "cell_type": "code",
   "execution_count": 14,
   "id": "b54631be",
   "metadata": {},
   "outputs": [
    {
     "data": {
      "text/plain": [
       "1"
      ]
     },
     "execution_count": 14,
     "metadata": {},
     "output_type": "execute_result"
    }
   ],
   "source": [
    "rd.randint(-10,10)"
   ]
  },
  {
   "cell_type": "code",
   "execution_count": 18,
   "id": "10046c3d",
   "metadata": {},
   "outputs": [
    {
     "data": {
      "text/plain": [
       "79.93638214460653"
      ]
     },
     "execution_count": 18,
     "metadata": {},
     "output_type": "execute_result"
    }
   ],
   "source": [
    "rd_num = rd.randint(-90,90) + rd.random()\n",
    "rd_num"
   ]
  },
  {
   "cell_type": "code",
   "execution_count": 22,
   "id": "7d08e663",
   "metadata": {},
   "outputs": [
    {
     "data": {
      "text/plain": [
       "[-13.622465756323509,\n",
       " 54.34973887122543,\n",
       " -66.26493672134414,\n",
       " 13.351511897661272,\n",
       " 62.72153714552851,\n",
       " 85.82282325266145,\n",
       " 36.73738875962574,\n",
       " -5.925964294012045,\n",
       " 90.32702593916736,\n",
       " -85.1138551120282]"
      ]
     },
     "execution_count": 22,
     "metadata": {},
     "output_type": "execute_result"
    }
   ],
   "source": [
    "# while loop to generate random lat\n",
    "x = 1\n",
    "latitudes = []\n",
    "while x < 11:\n",
    "    random_lat = rd.randint(-90, 90) + rd.random()\n",
    "    latitudes.append(random_lat)\n",
    "    x += 1\n",
    "\n",
    "latitudes"
   ]
  },
  {
   "cell_type": "code",
   "execution_count": 24,
   "id": "53e19b5c",
   "metadata": {},
   "outputs": [
    {
     "data": {
      "text/plain": [
       "66.80233167591729"
      ]
     },
     "execution_count": 24,
     "metadata": {},
     "output_type": "execute_result"
    }
   ],
   "source": [
    "rd.uniform(-90,90)"
   ]
  },
  {
   "cell_type": "code",
   "execution_count": 31,
   "id": "0732fa46",
   "metadata": {},
   "outputs": [],
   "source": [
    "import numpy as np\n"
   ]
  },
  {
   "cell_type": "code",
   "execution_count": 32,
   "id": "9de015ad",
   "metadata": {},
   "outputs": [
    {
     "data": {
      "text/plain": [
       "-81.79962705476328"
      ]
     },
     "execution_count": 32,
     "metadata": {},
     "output_type": "execute_result"
    }
   ],
   "source": [
    "np.random.uniform(-90,90)"
   ]
  },
  {
   "cell_type": "code",
   "execution_count": 33,
   "id": "f8944a28",
   "metadata": {},
   "outputs": [
    {
     "data": {
      "text/plain": [
       "array([ 70.84399264, -75.75189094,   8.88456994,  -3.29694257,\n",
       "       -25.33257023,  81.83734463,  41.3943823 , -72.27080594,\n",
       "       -84.02998249, -30.63358382, -20.68590692,  20.24374013,\n",
       "       -86.89853192, -63.26137264,  21.04324042, -70.90646834,\n",
       "        -3.81929891, -59.57788492,  21.96083895, -78.24241138,\n",
       "       -13.62027925,  87.53068958,  14.8323128 , -30.19531789,\n",
       "        -6.28829648,  20.94717343, -58.57412658,  61.19275157,\n",
       "        -2.68253991,  15.63315154,  52.88194045,   1.84382402,\n",
       "        22.59115421,  -0.39626438,  41.16097059,  12.42896096,\n",
       "       -31.33394224, -22.22157494, -32.79416617, -10.40980648,\n",
       "       -58.17971047, -80.53237813,   4.79720309,  88.9451148 ,\n",
       "       -74.28280093, -43.55087796,  -5.17855741,  13.13362972,\n",
       "       -70.43425609,  70.2067152 ])"
      ]
     },
     "execution_count": 33,
     "metadata": {},
     "output_type": "execute_result"
    }
   ],
   "source": [
    "np.random.uniform(-90.000,90.000,size=50)"
   ]
  },
  {
   "cell_type": "code",
   "execution_count": 34,
   "id": "11a2b476",
   "metadata": {},
   "outputs": [],
   "source": [
    "import timeit"
   ]
  },
  {
   "cell_type": "code",
   "execution_count": 35,
   "id": "80e5c443",
   "metadata": {},
   "outputs": [
    {
     "name": "stdout",
     "output_type": "stream",
     "text": [
      "15.9 µs ± 150 ns per loop (mean ± std. dev. of 7 runs, 100000 loops each)\n"
     ]
    }
   ],
   "source": [
    "%timeit np.random.uniform(-90.000,90.000, size=1500)"
   ]
  },
  {
   "cell_type": "code",
   "execution_count": 39,
   "id": "069c89c4",
   "metadata": {},
   "outputs": [
    {
     "name": "stdout",
     "output_type": "stream",
     "text": [
      "<function latitudes at 0x000002349C260CA8>\n"
     ]
    }
   ],
   "source": [
    "size = 1500\n",
    "def latitudes(size):\n",
    "    latitudes = []\n",
    "    x = 0\n",
    "    while x < (size):\n",
    "        random_lat = rd.randint(-90, 90) + rd.random()\n",
    "        latitudes.append(random_lat)\n",
    "        x += 1\n",
    "    return latitudes\n",
    "print(latitudes)\n"
   ]
  },
  {
   "cell_type": "code",
   "execution_count": null,
   "id": "de15d53b",
   "metadata": {},
   "outputs": [],
   "source": []
  }
 ],
 "metadata": {
  "kernelspec": {
   "display_name": "PythonData",
   "language": "python",
   "name": "pythondata"
  },
  "language_info": {
   "codemirror_mode": {
    "name": "ipython",
    "version": 3
   },
   "file_extension": ".py",
   "mimetype": "text/x-python",
   "name": "python",
   "nbconvert_exporter": "python",
   "pygments_lexer": "ipython3",
   "version": "3.7.10"
  }
 },
 "nbformat": 4,
 "nbformat_minor": 5
}
